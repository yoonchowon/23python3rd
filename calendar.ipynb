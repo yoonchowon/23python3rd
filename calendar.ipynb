{
  "nbformat": 4,
  "nbformat_minor": 0,
  "metadata": {
    "colab": {
      "provenance": [],
      "authorship_tag": "ABX9TyPUU3kdpzsMuI6TKYnhX33T",
      "include_colab_link": true
    },
    "kernelspec": {
      "name": "python3",
      "display_name": "Python 3"
    },
    "language_info": {
      "name": "python"
    }
  },
  "cells": [
    {
      "cell_type": "markdown",
      "metadata": {
        "id": "view-in-github",
        "colab_type": "text"
      },
      "source": [
        "<a href=\"https://colab.research.google.com/github/yoonchowon/23python3rd/blob/main/calendar.ipynb\" target=\"_parent\"><img src=\"https://colab.research.google.com/assets/colab-badge.svg\" alt=\"Open In Colab\"/></a>"
      ]
    },
    {
      "cell_type": "code",
      "execution_count": null,
      "metadata": {
        "colab": {
          "base_uri": "https://localhost:8080/"
        },
        "id": "Vl8OIQmjZEiC",
        "outputId": "ade77970-3d72-4ad6-a789-6625f7a6738b"
      },
      "outputs": [
        {
          "output_type": "stream",
          "name": "stdout",
          "text": [
            "    October 2023\n",
            "Mo Tu We Th Fr Sa Su\n",
            "                   1\n",
            " 2  3  4  5  6  7  8\n",
            " 9 10 11 12 13 14 15\n",
            "16 17 18 19 20 21 22\n",
            "23 24 25 26 27 28 29\n",
            "30 31\n",
            "\n"
          ]
        }
      ],
      "source": [
        "import calendar                 # calendar 모듈을 가져옵니다.\n",
        "yy = 2023                       # 연도(yy)를 지정합니다.\n",
        "mm = 10                         # 월(mm)을 지정합니다.\n",
        "print(calendar.month(yy,mm))    # 주어진 연도와 월에 해당하는 달력을 출력합니다."
      ]
    },
    {
      "cell_type": "markdown",
      "source": [
        "주어진 코드에서 calendar.month(yy, mm) 함수를 사용하여 yy에 해당하는 연도와 mm에 해당하는 월의 달력을 출력합니다. calendar 모듈은 파이썬에서 제공하는 달력 관련 기능을 제공합니다. month() 함수는 주어진 연도와 월에 해당하는 달력을 문자열 형태로 반환합니다. 따라서 위의 코드는 2023년 10월의 달력을 출력합니다."
      ],
      "metadata": {
        "id": "UOr3hgvsn1OQ"
      }
    },
    {
      "cell_type": "markdown",
      "source": [
        "# 오늘의 todo list 출력해라\n",
        "2023년 10월 19일\n",
        "print09:10~11;00 컴퓨팅적 사고와 기초코딩\n",
        "- 11:00~12:00 아동 건강 교육\n",
        "- 12:00~13:00 밥 먹기\n",
        "- 13:00~14:00 소화 시키면서 휴식\n",
        "- 14:00~15:00 시험 공부\n",
        "- 15:00~16:00 시험 공부\n",
        "- 16:00~17:00 시험 공부\n",
        "- 17:00~18:00 저녁 식사\n",
        "- 18;00~19:00 아르바이트\n",
        "- 19:00~20:00 아르바이트\n",
        "- 20:00~24:00 휴식 및 잠\n",
        "\n"
      ],
      "metadata": {
        "id": "boeBue_3atEn"
      }
    },
    {
      "cell_type": "code",
      "source": [
        "# 오늘의 todo list 출력해라  # 2023년 10월 19일의 To Do List를 출력하는 코드입니다\n",
        "print(\"2023년 10월 19일 To Do List\")\n",
        "print(\"09:10~11;00 컴퓨팅적 사고와 기초코딩\")\n",
        "print(\"11:00~12:00 아동 건강 교육\")\n",
        "print(\"12:00~13:00 밥 먹기\")\n",
        "print(\"13:00~14:00 소화 시키면서 휴식\")\n",
        "print(\"14:00~15:00 시험 공부\")\n",
        "print(\"15:00~16:00 시험 공부\")\n",
        "print(\"16:00~17:00 시험 공부\")\n",
        "print(\"17:00~18:00 저녁 식사\")\n",
        "print(\"18;00~19:00 아르바이트\")\n",
        "print(\"19:00~20:00 아르바이트\")\n",
        "print(\"20:00~24:00 휴식 및 잠\")\n",
        "\n"
      ],
      "metadata": {
        "colab": {
          "base_uri": "https://localhost:8080/"
        },
        "id": "JMeQLLlZeMnf",
        "outputId": "e0c75840-bc4a-48dc-873f-aba8abc2b5db"
      },
      "execution_count": null,
      "outputs": [
        {
          "output_type": "stream",
          "name": "stdout",
          "text": [
            "2023년 10월 19일 To Do List\n",
            "09:10~11;00 컴퓨팅적 사고와 기초코딩\n",
            "11:00~12:00 아동 건강 교육\n",
            "12:00~13:00 밥 먹기\n",
            "13:00~14:00 소화 시키면서 휴식\n",
            "14:00~15:00 시험 공부\n",
            "15:00~16:00 시험 공부\n",
            "16:00~17:00 시험 공부\n",
            "17:00~18:00 저녁 식사\n",
            "18;00~19:00 아르바이트\n",
            "19:00~20:00 아르바이트\n",
            "20:00~24:00 휴식 및 잠\n"
          ]
        }
      ]
    },
    {
      "cell_type": "markdown",
      "source": [
        ". 주어진 코드는 2023년 10월 19일의 To Do List를 출력합니다. 각 일정은 시간대와 일정 내용으로 구성되어 있습니다. 위의 코드는 각 일정을 시간대와 일정 내용을 포함하여 출력합니다."
      ],
      "metadata": {
        "id": "VMXuKdNyoFvi"
      }
    }
  ]
}