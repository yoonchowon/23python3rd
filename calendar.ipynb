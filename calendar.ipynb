{
  "nbformat": 4,
  "nbformat_minor": 0,
  "metadata": {
    "colab": {
      "provenance": [],
      "authorship_tag": "ABX9TyO0dSDqMv6AlGbXmJPDHTsL",
      "include_colab_link": true
    },
    "kernelspec": {
      "name": "python3",
      "display_name": "Python 3"
    },
    "language_info": {
      "name": "python"
    }
  },
  "cells": [
    {
      "cell_type": "markdown",
      "metadata": {
        "id": "view-in-github",
        "colab_type": "text"
      },
      "source": [
        "<a href=\"https://colab.research.google.com/github/yoonchowon/23python3rd/blob/main/calendar.ipynb\" target=\"_parent\"><img src=\"https://colab.research.google.com/assets/colab-badge.svg\" alt=\"Open In Colab\"/></a>"
      ]
    },
    {
      "cell_type": "code",
      "execution_count": 1,
      "metadata": {
        "colab": {
          "base_uri": "https://localhost:8080/"
        },
        "id": "Vl8OIQmjZEiC",
        "outputId": "ade77970-3d72-4ad6-a789-6625f7a6738b"
      },
      "outputs": [
        {
          "output_type": "stream",
          "name": "stdout",
          "text": [
            "    October 2023\n",
            "Mo Tu We Th Fr Sa Su\n",
            "                   1\n",
            " 2  3  4  5  6  7  8\n",
            " 9 10 11 12 13 14 15\n",
            "16 17 18 19 20 21 22\n",
            "23 24 25 26 27 28 29\n",
            "30 31\n",
            "\n"
          ]
        }
      ],
      "source": [
        "import calendar\n",
        "yy = 2023\n",
        "mm = 10\n",
        "print(calendar.month(yy,mm))"
      ]
    },
    {
      "cell_type": "markdown",
      "source": [
        "# 오늘의 todo list 출력해라\n",
        "2023년 10월 19일\n",
        "print09:10~11;00 컴퓨팅적 사고와 기초코딩\n",
        "- 11:00~12:00 아동 건강 교육\n",
        "- 12:00~13:00 밥 먹기\n",
        "- 13:00~14:00 소화 시키면서 휴식\n",
        "- 14:00~15:00 시험 공부\n",
        "- 15:00~16:00 시험 공부\n",
        "- 16:00~17:00 시험 공부\n",
        "- 17:00~18:00 저녁 식사\n",
        "- 18;00~19:00 아르바이트\n",
        "- 19:00~20:00 아르바이트\n",
        "- 20:00~24:00 휴식 및 잠\n",
        "\n"
      ],
      "metadata": {
        "id": "boeBue_3atEn"
      }
    },
    {
      "cell_type": "code",
      "source": [
        "# 오늘의 todo list 출력해라\n",
        "print(\"2023년 10월 19일 To Do List\")\n",
        "print(\"09:10~11;00 컴퓨팅적 사고와 기초코딩\")\n",
        "print(\"11:00~12:00 아동 건강 교육\")\n",
        "print(\"12:00~13:00 밥 먹기\")\n",
        "print(\"13:00~14:00 소화 시키면서 휴식\")\n",
        "print(\"14:00~15:00 시험 공부\")\n",
        "print(\"15:00~16:00 시험 공부\")\n",
        "print(\"16:00~17:00 시험 공부\")\n",
        "print(\"17:00~18:00 저녁 식사\")\n",
        "print(\"18;00~19:00 아르바이트\")\n",
        "print(\"19:00~20:00 아르바이트\")\n",
        "print(\"20:00~24:00 휴식 및 잠\")\n",
        "\n"
      ],
      "metadata": {
        "colab": {
          "base_uri": "https://localhost:8080/"
        },
        "id": "JMeQLLlZeMnf",
        "outputId": "e0c75840-bc4a-48dc-873f-aba8abc2b5db"
      },
      "execution_count": 2,
      "outputs": [
        {
          "output_type": "stream",
          "name": "stdout",
          "text": [
            "2023년 10월 19일 To Do List\n",
            "09:10~11;00 컴퓨팅적 사고와 기초코딩\n",
            "11:00~12:00 아동 건강 교육\n",
            "12:00~13:00 밥 먹기\n",
            "13:00~14:00 소화 시키면서 휴식\n",
            "14:00~15:00 시험 공부\n",
            "15:00~16:00 시험 공부\n",
            "16:00~17:00 시험 공부\n",
            "17:00~18:00 저녁 식사\n",
            "18;00~19:00 아르바이트\n",
            "19:00~20:00 아르바이트\n",
            "20:00~24:00 휴식 및 잠\n"
          ]
        }
      ]
    }
  ]
}