{
  "nbformat": 4,
  "nbformat_minor": 0,
  "metadata": {
    "colab": {
      "provenance": [],
      "authorship_tag": "ABX9TyOek7tjIxZjqVLxUV5mYke2",
      "include_colab_link": true
    },
    "kernelspec": {
      "name": "python3",
      "display_name": "Python 3"
    },
    "language_info": {
      "name": "python"
    }
  },
  "cells": [
    {
      "cell_type": "markdown",
      "metadata": {
        "id": "view-in-github",
        "colab_type": "text"
      },
      "source": [
        "<a href=\"https://colab.research.google.com/github/yoonchowon/23python3rd/blob/main/First_Code.ipynb\" target=\"_parent\"><img src=\"https://colab.research.google.com/assets/colab-badge.svg\" alt=\"Open In Colab\"/></a>"
      ]
    },
    {
      "cell_type": "markdown",
      "source": [
        "1. 나의 생애 첫번째 코드"
      ],
      "metadata": {
        "id": "7GsJ8fhOH-xM"
      }
    },
    {
      "cell_type": "code",
      "execution_count": 2,
      "metadata": {
        "colab": {
          "base_uri": "https://localhost:8080/"
        },
        "id": "nyc2ZuhVFoPo",
        "outputId": "29267245-93b3-40a7-cb11-e6f59e44e12a"
      },
      "outputs": [
        {
          "output_type": "stream",
          "name": "stdout",
          "text": [
            "Hello World\n"
          ]
        }
      ],
      "source": [
        "print(\"Hello World\")  # \"Hello World\"를 출력하는 코드입니다."
      ]
    },
    {
      "cell_type": "markdown",
      "source": [
        "위 코드는 \"Hello World\"라는 문자열을 출력하는 간단한 파이썬 코드입니다. print() 함수를 사용하여 괄호 안에 출력하고 싶은 내용을 넣으면 해당 내용이 화면에 출력됩니다.\n",
        "\n",
        "print(\"Hello World\")는 따옴표로 둘러싸인 문자열을 출력하는 코드입니다. 따옴표 안에 있는 내용이 그대로 출력되며, 따옴표는 출력되는 결과에 포함되지 않습니다.\n",
        "\n",
        "이 코드를 실행하면 \"Hello World\"가 정확히 출력됩니다. 파이썬에서 print() 함수는 터미널 또는 콘솔 창에 결과를 출력하는 기능을 수행합니다."
      ],
      "metadata": {
        "id": "21xf-SpA7j8v"
      }
    },
    {
      "cell_type": "markdown",
      "source": [
        "2. 두번째 코딩"
      ],
      "metadata": {
        "id": "kYpUmHf6Kg9x"
      }
    },
    {
      "cell_type": "code",
      "source": [
        "print(5+5, 6-2, 4*5, 6/2) # 숫자 연산 및 결과 출력하는 코드입니다."
      ],
      "metadata": {
        "colab": {
          "base_uri": "https://localhost:8080/"
        },
        "id": "wGjUNtH4Knzg",
        "outputId": "be6eeab1-6061-4c47-af62-d2c9636f857a"
      },
      "execution_count": null,
      "outputs": [
        {
          "output_type": "stream",
          "name": "stdout",
          "text": [
            "10 4 20 3.0\n"
          ]
        }
      ]
    },
    {
      "cell_type": "markdown",
      "source": [
        "위 코드는 숫자 연산을 수행하고 그 결과를 출력하는 파이썬 코드입니다. print() 함수를 사용하여 괄호 안에 연산식을 넣으면 해당 연산 결과가 화면에 출력됩니다.\n",
        "\n",
        "코드에 포함된 연산식은 다음과 같습니다:\n",
        "\n",
        "5+5: 5와 5를 더한 결과인 10\n",
        "6-2: 6에서 2를 뺀 결과인 4\n",
        "4*5: 4와 5를 곱한 결과인 20\n",
        "6/2: 6을 2로 나눈 결과인 3.0 (파이썬 3 버전부터는 정수 나눗셈의 결과가 실수로 반환됩니다)\n",
        "위 연산식들은 각각 덧셈, 뺄셈, 곱셈, 나눗셈을 수행하는 연산자인 +, -, *, /를 사용하여 계산됩니다.\n",
        "\n",
        "이 코드를 실행하면 숫자 연산의 결과가 정확히 출력됩니다."
      ],
      "metadata": {
        "id": "JRCHsAns8XaY"
      }
    }
  ]
}