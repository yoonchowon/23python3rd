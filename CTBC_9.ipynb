{
  "nbformat": 4,
  "nbformat_minor": 0,
  "metadata": {
    "colab": {
      "provenance": [],
      "authorship_tag": "ABX9TyMoyxMIoNOSqvYTI+WmXU0x",
      "include_colab_link": true
    },
    "kernelspec": {
      "name": "python3",
      "display_name": "Python 3"
    },
    "language_info": {
      "name": "python"
    }
  },
  "cells": [
    {
      "cell_type": "markdown",
      "metadata": {
        "id": "view-in-github",
        "colab_type": "text"
      },
      "source": [
        "<a href=\"https://colab.research.google.com/github/yoonchowon/23python3rd/blob/main/CTBC_9.ipynb\" target=\"_parent\"><img src=\"https://colab.research.google.com/assets/colab-badge.svg\" alt=\"Open In Colab\"/></a>"
      ]
    },
    {
      "cell_type": "markdown",
      "source": [
        "1. 두가지 이상의 선택, 다방향 선택구조 코딩\n",
        " - 배송료 처리 3가지로 코딩\n",
        " - 변수 : price\n",
        " - 조건 : 10만원 이상은 배송비 0.2만원 이상은 3천원,2만원 이하는 5천원"
      ],
      "metadata": {
        "id": "8bs1SGm3rvFk"
      }
    },
    {
      "cell_type": "code",
      "source": [
        "price = int(input(\"구입금액 입력:\"))           # 변수 price 사용자가 정수형 금액입력\n",
        "if price >= 100000:                            # price의 값이 10만원보다 크거나 같으면\n",
        "  shipplng_cost = 0                            # 선택1. 배송료(shipping_cost)는 0원\n",
        "else:                                          # 그게 아니면\n",
        "  if price >=20000:                            # 선택2.price값이 2만원보다 크거나 같으면\n",
        "    shipping_cost = 3000                       # 배송료(shipping_cost)는 3000원\n",
        "  else:                                        # 그것도 아니면\n",
        "     shipping_cost = 5000                      # 선택3. 배송료(shipping_cost)는 5천원\n",
        "print(f'배송료는 {shipping_cost}원 입니다.')   # F-String문자 Format으로 최종 배송료 출력\n",
        "\n"
      ],
      "metadata": {
        "colab": {
          "base_uri": "https://localhost:8080/"
        },
        "id": "ghGrK8YQswJF",
        "outputId": "a033d20b-8043-4356-ebf4-9f201f4e5b70"
      },
      "execution_count": 12,
      "outputs": [
        {
          "output_type": "stream",
          "name": "stdout",
          "text": [
            "구입금액 입력:20000\n",
            "배송료는 3000원 입니다.\n"
          ]
        }
      ]
    },
    {
      "cell_type": "markdown",
      "source": [
        "3.0부터 9까지 출력하는 코드 작성\n",
        " - 변수 : x"
      ],
      "metadata": {
        "id": "So__Uu_n1icp"
      }
    },
    {
      "cell_type": "code",
      "source": [
        "x = 0\n",
        "while x < 10:\n",
        "  #print(x)\n",
        "  print(x, end='')\n",
        "  x = x + 1"
      ],
      "metadata": {
        "colab": {
          "base_uri": "https://localhost:8080/"
        },
        "id": "orguvLVr11pT",
        "outputId": "733c735d-60f7-4d93-f716-7e498baf1ef0"
      },
      "execution_count": 14,
      "outputs": [
        {
          "output_type": "stream",
          "name": "stdout",
          "text": [
            "0123456789"
          ]
        }
      ]
    },
    {
      "cell_type": "markdown",
      "source": [
        "4. 1부터 10까지 합산하는 코드 작성"
      ],
      "metadata": {
        "id": "LjefsJR93FOL"
      }
    },
    {
      "cell_type": "code",
      "source": [
        "x = 1\n",
        "total = 0\n",
        "while x <= 10:\n",
        "  total+= x\n",
        "  #total = total + 1\n",
        "  #x = x + 1\n",
        "  x += 1\n",
        "print(total)"
      ],
      "metadata": {
        "colab": {
          "base_uri": "https://localhost:8080/"
        },
        "id": "oy7zAhW73NbB",
        "outputId": "c9f2b242-6d55-4e4d-c638-1107c1328890"
      },
      "execution_count": 15,
      "outputs": [
        {
          "output_type": "stream",
          "name": "stdout",
          "text": [
            "55\n"
          ]
        }
      ]
    },
    {
      "cell_type": "markdown",
      "source": [
        "5. 3-6-9 게임 (3의 배수 판단): 3의 배수를 3으로 나누면 나머지가 0이 되므로 (i mod 3)의 값이 0이면, 박수를 출력,아니면 숫자 출력하는 코드\n"
      ],
      "metadata": {
        "id": "yhEo3S8d4MN0"
      }
    },
    {
      "cell_type": "code",
      "source": [
        "for num in range(1, 11):\n",
        "  if num % 3== 0:\n",
        "    print(\"박수\",end='')\n",
        "  else:\n",
        "      print(num, end='')"
      ],
      "metadata": {
        "colab": {
          "base_uri": "https://localhost:8080/"
        },
        "id": "aa-ucBXQ432r",
        "outputId": "ba541513-e862-4187-d59b-241505f27e0c"
      },
      "execution_count": 16,
      "outputs": [
        {
          "output_type": "stream",
          "name": "stdout",
          "text": [
            "12박수45박수78박수10"
          ]
        }
      ]
    },
    {
      "cell_type": "code",
      "source": [
        "num = 1\n",
        "while num <= 20:\n",
        "  if num % 3 == 0:\n",
        "    print(\"박수\", end='')\n",
        "  else:\n",
        "      print(num, end='')\n",
        "  num += 1"
      ],
      "metadata": {
        "colab": {
          "base_uri": "https://localhost:8080/"
        },
        "id": "qSdVh3DT5dEz",
        "outputId": "ba7f97c7-7697-486c-f888-62bbf20697d2"
      },
      "execution_count": 22,
      "outputs": [
        {
          "output_type": "stream",
          "name": "stdout",
          "text": [
            "12박수45박수78박수1011박수1314박수1617박수1920"
          ]
        }
      ]
    },
    {
      "cell_type": "markdown",
      "source": [],
      "metadata": {
        "id": "Md9yDlQUy4Tw"
      }
    },
    {
      "cell_type": "code",
      "source": [
        "print(\"환영합니다.\")\n",
        "print(\"환영합니다.\")\n",
        "print(\"환영합니다.\")\n",
        "print(\"환영합니다.\")\n",
        "print(\"환영합니다.\")"
      ],
      "metadata": {
        "colab": {
          "base_uri": "https://localhost:8080/"
        },
        "id": "z1096aRZy9Ru",
        "outputId": "4be20ad4-a982-468e-bed2-85d71dc9cc5d"
      },
      "execution_count": 6,
      "outputs": [
        {
          "output_type": "stream",
          "name": "stdout",
          "text": [
            "환영합니다.\n",
            "환영합니다.\n",
            "환영합니다.\n",
            "환영합니다.\n",
            "환영합니다.\n"
          ]
        }
      ]
    },
    {
      "cell_type": "code",
      "source": [
        "print(\"환영합니다.\\n\"*5)"
      ],
      "metadata": {
        "colab": {
          "base_uri": "https://localhost:8080/"
        },
        "id": "TiAprXoyzafv",
        "outputId": "52b86955-a626-4328-a21e-d51814cf1a18"
      },
      "execution_count": 11,
      "outputs": [
        {
          "output_type": "stream",
          "name": "stdout",
          "text": [
            "환영합니다.\n",
            "환영합니다.\n",
            "환영합니다.\n",
            "환영합니다.\n",
            "환영합니다.\n",
            "\n"
          ]
        }
      ]
    },
    {
      "cell_type": "code",
      "source": [
        "count = 0\n",
        "while count <=5:\n",
        "  print(\"(\",count, \")\", \"환영합니다.\")\n",
        "  count = count + 1"
      ],
      "metadata": {
        "colab": {
          "base_uri": "https://localhost:8080/"
        },
        "id": "P7PSdbnUzwsY",
        "outputId": "2e347b23-edf5-4c95-8295-7374c48ee91f"
      },
      "execution_count": 10,
      "outputs": [
        {
          "output_type": "stream",
          "name": "stdout",
          "text": [
            "( 0 ) 환영합니다.\n",
            "( 1 ) 환영합니다.\n",
            "( 2 ) 환영합니다.\n",
            "( 3 ) 환영합니다.\n",
            "( 4 ) 환영합니다.\n",
            "( 5 ) 환영합니다.\n"
          ]
        }
      ]
    }
  ]
}