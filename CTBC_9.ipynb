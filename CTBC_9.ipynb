{
  "nbformat": 4,
  "nbformat_minor": 0,
  "metadata": {
    "colab": {
      "provenance": [],
      "authorship_tag": "ABX9TyMLfeqw37ehja7azOER4V6g",
      "include_colab_link": true
    },
    "kernelspec": {
      "name": "python3",
      "display_name": "Python 3"
    },
    "language_info": {
      "name": "python"
    }
  },
  "cells": [
    {
      "cell_type": "markdown",
      "metadata": {
        "id": "view-in-github",
        "colab_type": "text"
      },
      "source": [
        "<a href=\"https://colab.research.google.com/github/yoonchowon/23python3rd/blob/main/CTBC_9.ipynb\" target=\"_parent\"><img src=\"https://colab.research.google.com/assets/colab-badge.svg\" alt=\"Open In Colab\"/></a>"
      ]
    },
    {
      "cell_type": "markdown",
      "source": [
        "1. 두가지 이상의 선택, 다방향 선택구조 코딩\n",
        " - 배송료 처리 3가지로 코딩\n",
        " - 변수 : price\n",
        " - 조건 : 10만원 이상은 배송비 0.2만원 이상은 3천원,2만원 이하는 5천원"
      ],
      "metadata": {
        "id": "8bs1SGm3rvFk"
      }
    },
    {
      "cell_type": "code",
      "source": [
        "price = int(input(\"구입금액 입력:\"))           # 변수 price 사용자가 정수형 금액입력\n",
        "if price >= 100000:                            # price의 값이 10만원보다 크거나 같으면\n",
        "  shipplng_cost = 0                            # 선택1. 배송료(shipping_cost)는 0원\n",
        "else:                                          # 그게 아니면\n",
        "  if price >=20000:                            # 선택2.price값이 2만원보다 크거나 같으면\n",
        "    shipping_cost = 3000                       # 배송료(shipping_cost)는 0원\n",
        "  else:                                        # 그것도 아니면\n",
        "     shipping_cost = 5000                      # 선택3. 배송료(shipping_cost)는 5천원\n",
        "print(f'배송료는 {shipping_cost}원 입니다.')   # F-String문자 Format으로 최종 배송료 출력\n",
        "\n"
      ],
      "metadata": {
        "colab": {
          "base_uri": "https://localhost:8080/"
        },
        "id": "ghGrK8YQswJF",
        "outputId": "b560a05d-e4f5-4174-b76d-d4853647068f"
      },
      "execution_count": 5,
      "outputs": [
        {
          "output_type": "stream",
          "name": "stdout",
          "text": [
            "구입금액 입력:20000\n",
            "배송료는 3000원 입니다.\n"
          ]
        }
      ]
    }
  ]
}