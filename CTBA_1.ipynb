{
  "nbformat": 4,
  "nbformat_minor": 0,
  "metadata": {
    "colab": {
      "provenance": [],
      "authorship_tag": "ABX9TyNKse7w8NUjUdc3R+ikf1bH",
      "include_colab_link": true
    },
    "kernelspec": {
      "name": "python3",
      "display_name": "Python 3"
    },
    "language_info": {
      "name": "python"
    }
  },
  "cells": [
    {
      "cell_type": "markdown",
      "metadata": {
        "id": "view-in-github",
        "colab_type": "text"
      },
      "source": [
        "<a href=\"https://colab.research.google.com/github/yoonchowon/23python3rd/blob/main/CTBA_1.ipynb\" target=\"_parent\"><img src=\"https://colab.research.google.com/assets/colab-badge.svg\" alt=\"Open In Colab\"/></a>"
      ]
    },
    {
      "cell_type": "code",
      "execution_count": null,
      "metadata": {
        "id": "-4h-Q4s3bcjG"
      },
      "outputs": [],
      "source": []
    },
    {
      "cell_type": "markdown",
      "source": [
        "1.쇼핑몰의 배송료를 계산하는 코드 작성\n",
        "- 사용하는 변수 : price, shipping,_cost\n"
      ],
      "metadata": {
        "id": "aIVKKVWbcfr8"
      }
    },
    {
      "cell_type": "code",
      "source": [
        "print(\"상품의 가격을 입력하시오.\")\n",
        "price = int(input(\"구입금액 입력: \"))\n",
        "if price > 20000:\n",
        "  shipping_cos = 0\n",
        "  print(f'구입 금액이 2만원 이상입니다.')\n",
        "else:\n",
        "  shipping_cos = 3000\n",
        "  print(f'구입금액이 2만원 이하입니다.')\n",
        "  print(f'회원님의 배송비는 {shipping_cos}원 입니다.')"
      ],
      "metadata": {
        "colab": {
          "base_uri": "https://localhost:8080/"
        },
        "id": "ESh9oVYPdArG",
        "outputId": "0873ba1e-f9fc-444c-da9f-b97134015678"
      },
      "execution_count": 2,
      "outputs": [
        {
          "output_type": "stream",
          "name": "stdout",
          "text": [
            "상품의 가격을 입력하시오.\n",
            "구입금액 입력: 2001\n",
            "구입금액이 2만원 이하입니다.\n",
            "회원님의 배송비는 3000원 입니다.\n"
          ]
        }
      ]
    },
    {
      "cell_type": "markdown",
      "source": [
        "2. 학생으로부터 성적을 입력받아 합격유무를 출력하는 코드\n",
        "- 사용변수:grade"
      ],
      "metadata": {
        "id": "4oDC8u8FgzpL"
      }
    },
    {
      "cell_type": "code",
      "source": [
        "print(\"성적을 입력하시오.\")\n",
        "grade = int(input(\"성적입력: \"))\n",
        "if grade >= 70:\n",
        "  print(f'70점 이상이므로 합격입니다.')\n",
        "  print(\"축하합니다. 합격입니다.\")\n",
        "else:\n",
        "  print(f'70점 이하이므로 불합격입니다.')\n",
        "  print(\"아쉽군요. 다시 한번 도전하세요.\")\n"
      ],
      "metadata": {
        "colab": {
          "base_uri": "https://localhost:8080/"
        },
        "id": "THvLJu70hOdE",
        "outputId": "79d26fd6-edd8-4437-d9e6-56f6cefbc32a"
      },
      "execution_count": 10,
      "outputs": [
        {
          "output_type": "stream",
          "name": "stdout",
          "text": [
            "성적을 입력하시오.\n",
            "성적입력: 60\n",
            "70점 이하이므로 불합격입니다.\n",
            "아쉽군요. 다시 한번 도전하세요.\n"
          ]
        }
      ]
    },
    {
      "cell_type": "markdown",
      "source": [
        "3.근무 시간에 따라 초과근무와 정상근무를 판별하는 코드\n",
        "  - work_hour\n",
        "  - 연산코드 work_hour > 72"
      ],
      "metadata": {
        "id": "x6VpP-oTjZCz"
      }
    },
    {
      "cell_type": "code",
      "source": [
        "print(\"근무시간을 입력하시오.\")\n",
        "work_hour = int(input(\"근무시간 입력: \"))\n",
        "if work_hour > 72:\n",
        "  print (\"#\"*19)\n",
        "  print(f'# 초과근무 입니다.#')\n",
        "  print (\"#\"*19)\n",
        "else:\n",
        "  print (\"#\"*19)\n",
        "  print(f'# 정상근무 입니다.#')\n",
        "  print (\"#\"*19)\n"
      ],
      "metadata": {
        "colab": {
          "base_uri": "https://localhost:8080/"
        },
        "id": "6jZVOTVkj3x7",
        "outputId": "b7b4eacf-d081-47bf-c956-d333ff1594db"
      },
      "execution_count": 11,
      "outputs": [
        {
          "output_type": "stream",
          "name": "stdout",
          "text": [
            "근무시간을 입력하시오.\n",
            "근무시간 입력: 75\n",
            "###################\n",
            "# 초과근무 입니다.#\n",
            "###################\n"
          ]
        }
      ]
    },
    {
      "cell_type": "markdown",
      "source": [
        "4. 짝수와 홀수를 판별하는 코드\n",
        "- 사용변수;_num_\n",
        "- 수식;(x%2)!=0;\n"
      ],
      "metadata": {
        "id": "-5hO_HIml8ny"
      }
    },
    {
      "cell_type": "code",
      "source": [
        "print(\"점수를 입력하시오.\")\n",
        "_num_ = int(input(\"점수 입력: \"))\n",
        "if (_num_% 2) !=0:\n",
        "  print(f'입력하신 {_num_}은 홀수입니다.')\n",
        "else:\n",
        "  print(f'입력하신 {_num_}은  짝수입니다.')\n",
        "\n"
      ],
      "metadata": {
        "colab": {
          "base_uri": "https://localhost:8080/"
        },
        "id": "0uQ-Bkm9mXyS",
        "outputId": "c3e94487-9b9f-4960-b299-7376c979819a"
      },
      "execution_count": 15,
      "outputs": [
        {
          "output_type": "stream",
          "name": "stdout",
          "text": [
            "점수를 입력하시오.\n",
            "점수 입력: 8\n",
            "입력하신 8은  짝수입니다.\n"
          ]
        }
      ]
    },
    {
      "cell_type": "markdown",
      "source": [
        "5. 사용자의 이름과 나이를 물어보고 답변하는 코드\n",
        " - 사용변수:name,age\n",
        " - 출력할 내용:\n",
        " -성명\n",
        " -나이: 20\n",
        " -(1) 20이하:프로그래밍을 배우는 최적의 나이입니다.\n",
        " -(2) 20이상: 아작도 늦지 않았습니다.\n"
      ],
      "metadata": {
        "id": "SRtmjxWWoc7K"
      }
    },
    {
      "cell_type": "code",
      "source": [
        "print(\"당신의 이름과 나이를 입력하시오.\")\n",
        "name = input(\"이름:\")\n",
        "age = int(input(\"나이: \"))\n",
        "if age <= 20:\n",
        "   print(f'프로그래밍을 배우는 최적의 나이입니다.')\n",
        "else:\n",
        "  print(f'아직도 늦지 않았습니다.')"
      ],
      "metadata": {
        "colab": {
          "base_uri": "https://localhost:8080/"
        },
        "id": "kwnn20cspWfi",
        "outputId": "e31db7e2-ad64-4d99-a241-e9aac55b0489"
      },
      "execution_count": 16,
      "outputs": [
        {
          "output_type": "stream",
          "name": "stdout",
          "text": [
            "당신의 이름과 나이를 입력하시오.\n",
            "이름:윤초원\n",
            "나이: 20\n",
            "프로그래밍을 배우는 최적의 나이입니다.\n"
          ]
        }
      ]
    }
  ]
}